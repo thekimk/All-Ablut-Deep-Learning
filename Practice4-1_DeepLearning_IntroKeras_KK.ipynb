{
 "cells": [
  {
   "cell_type": "markdown",
   "metadata": {},
   "source": [
    "# **딥러닝 분석용 라이브러리**\n",
    "\n",
    "[![Open in Colab](http://colab.research.google.com/assets/colab-badge.svg)](https://colab.research.google.com/github/thekimk/All-About-Deep-Learning/blob/main/Practice4-1_DeepLearning_IntroKeras_KK.ipynb)\n",
    "\n",
    "**1) 머신러닝 및 딥러닝 플랫폼:** `Scikit-learn, Theano, Tenserflow, PyTorch, MXNet, NLTK, Keras 등`\n",
    "\n",
    "<center><img src='Image/Expert/DL_Platforms.webp' width='1000'>(https://towardsdatascience.com/best-python-libraries-for-machine-learning-and-deep-learning-b0bd40c7e8c)</center>  \n",
    "\n",
    "<center><img src='Image/Expert/DL_Platforms_Comparing.webp' width='1000'>(https://towardsdatascience.com/deep-learning-framework-power-scores-2018-23607ddf297a)</center>  "
   ]
  },
  {
   "cell_type": "markdown",
   "metadata": {},
   "source": [
    "### [`tensorflow`(텐서플로우)](https://www.tensorflow.org/?hl=ko)\n",
    "\n",
    "> - **`구글의 인공지능 개발부서`에서 개발하여 내부적으로 사용하다 `2015년 오픈소스로 공개`**\n",
    "> - **`파이썬의 문법과 다른 방식`으로 동작하기에 텐서플로우 이해가 쉽진 않음**\n",
    "> - **프로그래밍 언어들 중 파이썬은 `느린 언어`라 파이썬으로 딥러닝 구현 어려움**\n",
    "> - **`우수한 기능과 서비스`로 가장 많은 사용자 확보**\n",
    "> - **`병렬처리`를 지원하며 `고급 신경망 구현` 용이**\n",
    "> - **`웹, 모바일, 임베디드 시스템` 등에서 머신러닝 적용 라이브러리 제공**\n",
    ">\n",
    "> (1) `데이터 플로우` 그래프를 활용하여 풍부하게 표현 가능\n",
    ">\n",
    "> (2) 단순 `아이디어 테스트` 부터 실제 `현업 서비스` 단계까지 두루 사용\n",
    ">\n",
    "> (3) 목표와 계산/연산 방식만 설정하면 `자동으로 미분과 최적화`를 포함한 처리 완료\n",
    ">\n",
    "> (4) `파이썬` 뿐만 아니라 `C++, Go, Java, R` 등 다양한 언어 지원\n",
    ">\n",
    "> <center><img src='Image/Advanced/Tensorflow_Structure.jpg' width='600'>(Tensorflow Structure)</center>\n",
    "<!-- https://www.itworld.co.kr/news/103541 -->\n",
    ">```python\n",
    "># 설치\n",
    "!pip install tensorflow\n",
    "!conda install tensorflow\n",
    "!pip install --upgrade --user tensorflow\n",
    "!pip install -U tensorflow-addons\n",
    ">\n",
    "># 불러오기\n",
    "import tensorflow as tf\n",
    ">```"
   ]
  },
  {
   "cell_type": "markdown",
   "metadata": {},
   "source": [
    "### [`keras`(케라스)](https://keras.io/)\n",
    "\n",
    "> **\"파이썬으로 작성된 `오픈소스(Open Source) 인공신경망 라이브러리`\"**\n",
    ">\n",
    "> - **`Tensorflow, MXNet, Deeplearning4j 등`을 뒤에서 작동시켜 `대부분의 신경망 프로그래밍 또는 모델링`을 `최소한의 방식으로 빠르고 간편하게` 만들고 학습시킬 수 있는 프레임워크**\n",
    "> - **일반적인 사례들을 간단하게 분석할 수 있는 `인터페이스 제공`하여 사용자의 `오류를 명확하게 피드백`하는 편**\n",
    "> - **백엔드로 `텐서플로우`를 사용하지만 저수준 연산기반이 아닌 `고수준 구성요소 연산` 제공**\n",
    "> - **`모듈 구조`로 구성되어 있지만 여러가지 새로운 아이디어를 반영하기 위해 쉽게 `Customize 가능`하여 `현존하지 않는 신규 알고리즘을 개발하거나 기존 기능이나 엔진들과 연동이 쉬움`**\n",
    ">\n",
    "> (1) `다양한 딥러닝 네트워크` 구조를 쉽게 생성 가능\n",
    ">\n",
    "> (2) 동일한 코드로 `CPU`와 `GPU` 모두에서 동일하게 실행 가능\n",
    ">\n",
    "> (3) 사용하기 쉬운 API로 딥러닝 모델의 프로토타입을 쉽게 구현 가능하고 자유롭게 조합도 가능\n",
    ">\n",
    "> <center><img src='Image/Advanced/Keras_Structure.png' width='600'></center>\n",
    "<!-- https://cyc1am3n.github.io/2018/11/02/introduction-to-keras.html -->\n",
    ">```python\n",
    "># 설치\n",
    "!pip install tensorflow\n",
    "!conda install tensorflow\n",
    "!pip install --upgrade --user tensorflow\n",
    "!pip install -U tensorflow-addons\n",
    "!pip install keras\n",
    "!conda install keras\n",
    "!pip install keras-tqdm\n",
    ">\n",
    "># 불러오기\n",
    "import tensorflow as tf\n",
    "import keras\n",
    ">```"
   ]
  },
  {
   "cell_type": "markdown",
   "metadata": {},
   "source": [
    "### [`pytorch`(파이토치)](https://pytorch.org/tutorials/)\n",
    "\n",
    "> - **파이썬 언어로 사용하며, 진화된 `토치 C/CUDA 백엔드`를 사용**\n",
    "> - **`강력한 GPU 가속`이 적용되는 파이썬으로 된 `텐서와 동적 신경망`**\n",
    "> - **`동적 신경망(Dynamic Neural Network)`은 반복할 때마다 변경이 가능한 신경망**\n",
    "> - **각 반복 단계에서 `즉석으로 그래프를 재생성`하며, 텐서플로우는 `단일 데이터 흐름 그래프`**\n",
    "> - **속도를 극대화하기 위해 `인텔 MKL`, `엔비디아 cuDNN`, `NCCL`과 같은 가속 라이브러리를 통합**\n",
    "\n",
    ">```python\n",
    "># 설치\n",
    ">```\n",
    "> <center><img src='Image/Advanced/PyTorch_Install.png' width='700'></center>\n",
    ">\n",
    ">```python\n",
    "># 불러오기\n",
    "import torch\n",
    "torch.__version__\n",
    "torch.cuda.is_available()\n",
    ">```"
   ]
  },
  {
   "cell_type": "markdown",
   "metadata": {},
   "source": [
    "# **딥러닝 데이터분석 프로세스**\n",
    "\n",
    "## Keras 불러오기\n",
    "\n",
    "**1) 목표:**\n",
    "\n",
    "> **(1)** `텐서플로우`를 사용하여 `머신러닝과 딥러닝 알고리즘을 구현`할 수 있음\n",
    ">\n",
    "> **(2)** 지도학습의 대표적 문제인 `회귀문제 및 분류문제`를 텐서플로우로 구현\n",
    ">\n",
    "> **(3)** 심층신경망으로 `확장된 모델링`을 한 후 `데이터를 학습시키는 방법`을 익힘"
   ]
  },
  {
   "cell_type": "code",
   "execution_count": 1,
   "metadata": {
    "scrolled": false
   },
   "outputs": [
    {
     "name": "stdout",
     "output_type": "stream",
     "text": [
      "Requirement already satisfied: tensorflow==2.10.* in c:\\users\\kk\\anaconda3\\lib\\site-packages (2.10.1)\n",
      "Requirement already satisfied: termcolor>=1.1.0 in c:\\users\\kk\\anaconda3\\lib\\site-packages (from tensorflow==2.10.*) (2.2.0)\n",
      "Requirement already satisfied: astunparse>=1.6.0 in c:\\users\\kk\\anaconda3\\lib\\site-packages (from tensorflow==2.10.*) (1.6.3)\n",
      "Requirement already satisfied: numpy>=1.20 in c:\\users\\kk\\anaconda3\\lib\\site-packages (from tensorflow==2.10.*) (1.21.5)\n",
      "Requirement already satisfied: tensorflow-io-gcs-filesystem>=0.23.1 in c:\\users\\kk\\anaconda3\\lib\\site-packages (from tensorflow==2.10.*) (0.29.0)\n",
      "Requirement already satisfied: gast<=0.4.0,>=0.2.1 in c:\\users\\kk\\anaconda3\\lib\\site-packages (from tensorflow==2.10.*) (0.4.0)\n",
      "Requirement already satisfied: opt-einsum>=2.3.2 in c:\\users\\kk\\anaconda3\\lib\\site-packages (from tensorflow==2.10.*) (3.3.0)\n",
      "Requirement already satisfied: google-pasta>=0.1.1 in c:\\users\\kk\\anaconda3\\lib\\site-packages (from tensorflow==2.10.*) (0.2.0)\n",
      "Requirement already satisfied: tensorflow-estimator<2.11,>=2.10.0 in c:\\users\\kk\\anaconda3\\lib\\site-packages (from tensorflow==2.10.*) (2.10.0)\n",
      "Requirement already satisfied: h5py>=2.9.0 in c:\\users\\kk\\anaconda3\\lib\\site-packages (from tensorflow==2.10.*) (3.7.0)\n",
      "Requirement already satisfied: protobuf<3.20,>=3.9.2 in c:\\users\\kk\\appdata\\roaming\\python\\python39\\site-packages (from tensorflow==2.10.*) (3.19.6)\n",
      "Requirement already satisfied: flatbuffers>=2.0 in c:\\users\\kk\\anaconda3\\lib\\site-packages (from tensorflow==2.10.*) (22.12.6)\n",
      "Requirement already satisfied: typing-extensions>=3.6.6 in c:\\users\\kk\\anaconda3\\lib\\site-packages (from tensorflow==2.10.*) (4.3.0)\n",
      "Requirement already satisfied: setuptools in c:\\users\\kk\\anaconda3\\lib\\site-packages (from tensorflow==2.10.*) (63.4.1)\n",
      "Requirement already satisfied: absl-py>=1.0.0 in c:\\users\\kk\\appdata\\roaming\\python\\python39\\site-packages (from tensorflow==2.10.*) (1.3.0)\n",
      "Requirement already satisfied: grpcio<2.0,>=1.24.3 in c:\\users\\kk\\anaconda3\\lib\\site-packages (from tensorflow==2.10.*) (1.51.1)\n",
      "Requirement already satisfied: packaging in c:\\users\\kk\\anaconda3\\lib\\site-packages (from tensorflow==2.10.*) (21.3)\n",
      "Requirement already satisfied: wrapt>=1.11.0 in c:\\users\\kk\\anaconda3\\lib\\site-packages (from tensorflow==2.10.*) (1.14.1)\n",
      "Requirement already satisfied: six>=1.12.0 in c:\\users\\kk\\anaconda3\\lib\\site-packages (from tensorflow==2.10.*) (1.16.0)\n",
      "Requirement already satisfied: keras-preprocessing>=1.1.1 in c:\\users\\kk\\anaconda3\\lib\\site-packages (from tensorflow==2.10.*) (1.1.2)\n",
      "Requirement already satisfied: libclang>=13.0.0 in c:\\users\\kk\\anaconda3\\lib\\site-packages (from tensorflow==2.10.*) (14.0.6)\n",
      "Requirement already satisfied: tensorboard<2.11,>=2.10 in c:\\users\\kk\\anaconda3\\lib\\site-packages (from tensorflow==2.10.*) (2.10.1)\n",
      "Requirement already satisfied: keras<2.11,>=2.10.0 in c:\\users\\kk\\anaconda3\\lib\\site-packages (from tensorflow==2.10.*) (2.10.0)\n",
      "Requirement already satisfied: wheel<1.0,>=0.23.0 in c:\\users\\kk\\anaconda3\\lib\\site-packages (from astunparse>=1.6.0->tensorflow==2.10.*) (0.37.1)\n",
      "Requirement already satisfied: tensorboard-data-server<0.7.0,>=0.6.0 in c:\\users\\kk\\appdata\\roaming\\python\\python39\\site-packages (from tensorboard<2.11,>=2.10->tensorflow==2.10.*) (0.6.1)\n",
      "Requirement already satisfied: google-auth-oauthlib<0.5,>=0.4.1 in c:\\users\\kk\\appdata\\roaming\\python\\python39\\site-packages (from tensorboard<2.11,>=2.10->tensorflow==2.10.*) (0.4.6)\n",
      "Requirement already satisfied: google-auth<3,>=1.6.3 in c:\\users\\kk\\appdata\\roaming\\python\\python39\\site-packages (from tensorboard<2.11,>=2.10->tensorflow==2.10.*) (2.15.0)\n",
      "Requirement already satisfied: werkzeug>=1.0.1 in c:\\users\\kk\\anaconda3\\lib\\site-packages (from tensorboard<2.11,>=2.10->tensorflow==2.10.*) (2.0.3)\n",
      "Requirement already satisfied: markdown>=2.6.8 in c:\\users\\kk\\anaconda3\\lib\\site-packages (from tensorboard<2.11,>=2.10->tensorflow==2.10.*) (3.3.4)\n",
      "Requirement already satisfied: requests<3,>=2.21.0 in c:\\users\\kk\\anaconda3\\lib\\site-packages (from tensorboard<2.11,>=2.10->tensorflow==2.10.*) (2.28.1)\n",
      "Requirement already satisfied: tensorboard-plugin-wit>=1.6.0 in c:\\users\\kk\\appdata\\roaming\\python\\python39\\site-packages (from tensorboard<2.11,>=2.10->tensorflow==2.10.*) (1.8.1)\n",
      "Requirement already satisfied: pyparsing!=3.0.5,>=2.0.2 in c:\\users\\kk\\anaconda3\\lib\\site-packages (from packaging->tensorflow==2.10.*) (3.0.9)\n",
      "Requirement already satisfied: cachetools<6.0,>=2.0.0 in c:\\users\\kk\\appdata\\roaming\\python\\python39\\site-packages (from google-auth<3,>=1.6.3->tensorboard<2.11,>=2.10->tensorflow==2.10.*) (5.2.0)\n",
      "Requirement already satisfied: rsa<5,>=3.1.4 in c:\\users\\kk\\appdata\\roaming\\python\\python39\\site-packages (from google-auth<3,>=1.6.3->tensorboard<2.11,>=2.10->tensorflow==2.10.*) (4.9)\n",
      "Requirement already satisfied: pyasn1-modules>=0.2.1 in c:\\users\\kk\\anaconda3\\lib\\site-packages (from google-auth<3,>=1.6.3->tensorboard<2.11,>=2.10->tensorflow==2.10.*) (0.2.8)\n",
      "Requirement already satisfied: requests-oauthlib>=0.7.0 in c:\\users\\kk\\appdata\\roaming\\python\\python39\\site-packages (from google-auth-oauthlib<0.5,>=0.4.1->tensorboard<2.11,>=2.10->tensorflow==2.10.*) (1.3.1)\n",
      "Requirement already satisfied: charset-normalizer<3,>=2 in c:\\users\\kk\\anaconda3\\lib\\site-packages (from requests<3,>=2.21.0->tensorboard<2.11,>=2.10->tensorflow==2.10.*) (2.0.4)\n",
      "Requirement already satisfied: certifi>=2017.4.17 in c:\\users\\kk\\anaconda3\\lib\\site-packages (from requests<3,>=2.21.0->tensorboard<2.11,>=2.10->tensorflow==2.10.*) (2022.9.14)\n",
      "Requirement already satisfied: idna<4,>=2.5 in c:\\users\\kk\\anaconda3\\lib\\site-packages (from requests<3,>=2.21.0->tensorboard<2.11,>=2.10->tensorflow==2.10.*) (3.3)\n",
      "Requirement already satisfied: urllib3<1.27,>=1.21.1 in c:\\users\\kk\\anaconda3\\lib\\site-packages (from requests<3,>=2.21.0->tensorboard<2.11,>=2.10->tensorflow==2.10.*) (1.26.11)\n",
      "Requirement already satisfied: pyasn1<0.5.0,>=0.4.6 in c:\\users\\kk\\anaconda3\\lib\\site-packages (from pyasn1-modules>=0.2.1->google-auth<3,>=1.6.3->tensorboard<2.11,>=2.10->tensorflow==2.10.*) (0.4.8)\n",
      "Requirement already satisfied: oauthlib>=3.0.0 in c:\\users\\kk\\appdata\\roaming\\python\\python39\\site-packages (from requests-oauthlib>=0.7.0->google-auth-oauthlib<0.5,>=0.4.1->tensorboard<2.11,>=2.10->tensorflow==2.10.*) (3.2.2)\n",
      "Requirement already satisfied: tensorflow-addons in c:\\users\\kk\\anaconda3\\lib\\site-packages (0.19.0)\n",
      "Requirement already satisfied: packaging in c:\\users\\kk\\anaconda3\\lib\\site-packages (from tensorflow-addons) (21.3)\n",
      "Requirement already satisfied: typeguard>=2.7 in c:\\users\\kk\\appdata\\roaming\\python\\python39\\site-packages (from tensorflow-addons) (2.13.3)\n",
      "Requirement already satisfied: pyparsing!=3.0.5,>=2.0.2 in c:\\users\\kk\\anaconda3\\lib\\site-packages (from packaging->tensorflow-addons) (3.0.9)\n",
      "Requirement already satisfied: keras in c:\\users\\kk\\anaconda3\\lib\\site-packages (2.10.0)\n",
      "Requirement already satisfied: keras-tqdm in c:\\users\\kk\\anaconda3\\lib\\site-packages (2.0.1)\n",
      "Requirement already satisfied: Keras in c:\\users\\kk\\anaconda3\\lib\\site-packages (from keras-tqdm) (2.10.0)\n",
      "Requirement already satisfied: tqdm in c:\\users\\kk\\anaconda3\\lib\\site-packages (from keras-tqdm) (4.64.1)\n",
      "Requirement already satisfied: colorama in c:\\users\\kk\\anaconda3\\lib\\site-packages (from tqdm->keras-tqdm) (0.4.5)\n"
     ]
    }
   ],
   "source": [
    "# Tensorflow 및 Keras 설치하기\n",
    "!pip install tensorflow==2.10.*\n",
    "# !pip install --upgrade --user tensorflow\n",
    "!pip install -U tensorflow-addons\n",
    "!pip install keras\n",
    "# !pip install --upgrade --user keras\n",
    "!pip install keras-tqdm"
   ]
  },
  {
   "cell_type": "code",
   "execution_count": 2,
   "metadata": {},
   "outputs": [],
   "source": [
    "import statsmodels.api as sm\n",
    "from scipy import stats\n",
    "import tensorflow as tf\n",
    "tf.get_logger().setLevel('ERROR')\n",
    "tf.get_logger().warning('test')\n",
    "import tensorflow_addons as tfa\n",
    "from tensorflow.keras import layers, regularizers, callbacks\n",
    "from tensorflow.keras.models import Sequential, Model, load_model\n",
    "from tensorflow.keras.layers import Input, Dense, Activation, Flatten, Dropout, Reshape\n",
    "from tensorflow.keras.layers import Conv1D, MaxPooling1D\n",
    "from tensorflow.keras.layers import SimpleRNN, LSTM, GRU\n",
    "from tensorflow.keras.utils import plot_model"
   ]
  },
  {
   "cell_type": "markdown",
   "metadata": {},
   "source": [
    "## 예제 데이터 생성"
   ]
  },
  {
   "cell_type": "code",
   "execution_count": 3,
   "metadata": {},
   "outputs": [],
   "source": [
    "# 입력과 출력이 같은 데이터를 구성하여 최적의 가중치는 1\n",
    "import numpy as np\n",
    "\n",
    "X_train = np.array([1,2,3,4,5,6,7,8,9,10])\n",
    "X_test = np.array([3,7,9])\n",
    "Y_train = np.array([1,2,3,4,5,6,7,8,9,10])\n",
    "Y_test = np.array([3,7,9])"
   ]
  },
  {
   "cell_type": "markdown",
   "metadata": {},
   "source": [
    "## 딥러닝 모델생성\n",
    "\n",
    "**0) 목적:** 입력과 출력 데이터를 사용하여 `최적의 가중치(Weight)를 추정`하는 것\n",
    "\n",
    "- 알고리즘이 이해할 수 있는 `전처리가 끝난 X, Y를 입력`\n",
    "- `Layer들을 구성하여 모델을 생성`\n",
    "- `적절한 평가함수 세팅`을 통해 Keras 라이브러리는 최적의 가중치 추정\n",
    "\n",
    "---\n",
    "\n",
    "**1) 모델링 방식 종류:**\n",
    "\n",
    "> **\"Keras는 `Sequential API, Functional API, Subclassing API`라는 3가지 방식으로 모델링 가능\"**\n",
    "\n",
    "<center><img src='Image/Expert/Keras_Sequencial_Functional.png' width='1000'></center>  \n",
    "\n",
    "| **생성 방식** | **장점** | **단점** |\n",
    "|:---:|:---|:---|\n",
    "| **Sequential API** | `단순하게 딥러닝의 층을 쌓는 방식`으로 쉽고 간단 | 다수의 입출력이나 층의 다양한 연결과 연산이 불가하기에 `복합한 모델링 한계` |\n",
    "| **Functional API** | 딥러닝의 층을 `함수형태로 정의`<br>Sequential API가 불가한 `대부분의 복잡한 딥러닝 모델링` 가능 | `직접적으로 연결되지 않는 딥러닝 층의 구현 불가` |\n",
    "| **Subclassing API** | `클래스의 구조`로 딥러닝 활용<br>Functional API가 불가한 `새로운 수준의 딥러닝 아키텍처` 모델링 가능 | `객체 지향 프로그래밍에 익숙`해야 해서 코드 사용이 까다로움 |\n",
    "\n",
    "---\n",
    "\n",
    "**2) Sequential vs Functional:**\n",
    "\n",
    "```python\n",
    "from tensorflow.keras.models import Sequential, Model\n",
    "from tensorflow.keras.layers import Dense\n",
    "from tensorflow.keras.utils import plot_model\n",
    "\n",
    "# Sequential 방식\n",
    "model = Sequential()    # 모델 구성 선언\n",
    "model.add(Dense(5, input_dim=1, activation='relu'))    # 은닉층1: X를 입력하는 layer 추가\n",
    "model.add(Dense(3, activation='relu'))    # 은닉층2: layer 추가\n",
    "model.add(Dense(1, activation='linear'))    # 출력층: Y를 출력하는 layer 추가\n",
    "model.summary()    # 네트워크 구조 출력\n",
    "plot_model(model)    # 네트워크 구조 시각화\n",
    "```\n",
    "\n",
    "```python\n",
    "# Functional 방식\n",
    "inputs = Input(shape=(1,))    # Input 함수를 사용하여 입력층 생성\n",
    "hidden1 = Dense(5, activation='relu')(inputs)    # 은닉층1: 입력층을 입력받는 layer 추가\n",
    "hidden2 = Dense(3, activation='relu')(hidden1)    # 은닉층2: 은닉층1을 입력받는 layer 추가\n",
    "output = Dense(1, activation='linear')(hidden2)    # 출력층: 은닉층2를 입력받아 Y를 출력하는 layer 추가\n",
    "model = Model(inputs, output)    # 입력층과 출력층을 구성하며 최종 모델 완성\n",
    "model.summary()    # 네트워크 구조 출력\n",
    "plot_model(model)    # 네트워크 구조 시각화\n",
    "```\n",
    "\n",
    "| **문제 유형** | **출력층 Activation Function** |\n",
    "|:---|:---:|\n",
    "| 임의 값 Regression | 없음 / Linear |\n",
    "| 0과 1사이 값 Regression | Sigmoid |\n",
    "| Binary Classification | Sigmoid |\n",
    "| Multi Classification (단일 Label) | Softmax |\n",
    "| Multi Classification (다중 Label) | Sigmoid |"
   ]
  },
  {
   "cell_type": "code",
   "execution_count": 4,
   "metadata": {},
   "outputs": [
    {
     "name": "stdout",
     "output_type": "stream",
     "text": [
      "Model: \"sequential\"\n",
      "_________________________________________________________________\n",
      " Layer (type)                Output Shape              Param #   \n",
      "=================================================================\n",
      " dense (Dense)               (None, 5)                 10        \n",
      "                                                                 \n",
      " dense_1 (Dense)             (None, 3)                 18        \n",
      "                                                                 \n",
      " dense_2 (Dense)             (None, 1)                 4         \n",
      "                                                                 \n",
      "=================================================================\n",
      "Total params: 32\n",
      "Trainable params: 32\n",
      "Non-trainable params: 0\n",
      "_________________________________________________________________\n"
     ]
    },
    {
     "data": {
      "image/png": "[encoded data removed]",
      "text/plain": [
       "<IPython.core.display.Image object>"
      ]
     },
     "execution_count": 4,
     "metadata": {},
     "output_type": "execute_result"
    }
   ],
   "source": [
    "from tensorflow.keras.models import Sequential, Model\n",
    "from tensorflow.keras.layers import Dense\n",
    "from tensorflow.keras.utils import plot_model\n",
    "\n",
    "# Sequential 방식\n",
    "model = Sequential()    # 모델 구성 선언\n",
    "model.add(Dense(5, input_dim=1, activation='relu'))    # 은닉층1: X를 입력하는 layer 추가\n",
    "model.add(Dense(3, activation='relu'))    # 은닉층2: layer 추가\n",
    "model.add(Dense(1, activation='linear'))    # 출력층: Y를 출력하는 layer 추가\n",
    "model.summary()    # 네트워크 구조 출력\n",
    "plot_model(model)    # 네트워크 구조 시각화"
   ]
  },
  {
   "cell_type": "code",
   "execution_count": 5,
   "metadata": {},
   "outputs": [
    {
     "name": "stdout",
     "output_type": "stream",
     "text": [
      "Model: \"model\"\n",
      "_________________________________________________________________\n",
      " Layer (type)                Output Shape              Param #   \n",
      "=================================================================\n",
      " input_1 (InputLayer)        [(None, 1)]               0         \n",
      "                                                                 \n",
      " dense_3 (Dense)             (None, 5)                 10        \n",
      "                                                                 \n",
      " dense_4 (Dense)             (None, 3)                 18        \n",
      "                                                                 \n",
      " dense_5 (Dense)             (None, 1)                 4         \n",
      "                                                                 \n",
      "=================================================================\n",
      "Total params: 32\n",
      "Trainable params: 32\n",
      "Non-trainable params: 0\n",
      "_________________________________________________________________\n"
     ]
    },
    {
     "data": {
      "image/png": "[encoded data removed]",
      "text/plain": [
       "<IPython.core.display.Image object>"
      ]
     },
     "execution_count": 5,
     "metadata": {},
     "output_type": "execute_result"
    }
   ],
   "source": [
    "# Functional 방식\n",
    "inputs = Input(shape=(1,))    # Input 함수를 사용하여 입력층 생성\n",
    "hidden1 = Dense(5, activation='relu')(inputs)    # 은닉층1: 입력층을 입력받는 layer 추가\n",
    "hidden2 = Dense(3, activation='relu')(hidden1)    # 은닉층2: 은닉층1을 입력받는 layer 추가\n",
    "output = Dense(1, activation='linear')(hidden2)    # 출력층: 은닉층2를 입력받아 Y를 출력하는 layer 추가\n",
    "model = Model(inputs, output)    # 입력층과 출력층을 구성하며 최종 모델 완성\n",
    "model.summary()    # 네트워크 구조 출력\n",
    "plot_model(model)    # 네트워크 구조 시각화"
   ]
  },
  {
   "cell_type": "markdown",
   "metadata": {},
   "source": [
    "**3) Functional API:**\n",
    "\n",
    "```python\n",
    "# Functional 방식\n",
    "inputs = Input(shape=(1,))    # Input 함수를 사용하여 입력층 생성\n",
    "hidden1 = Dense(5, activation='relu')(inputs)    # 은닉층1: 입력층을 입력받는 layer 추가\n",
    "hidden2 = Dense(3, activation='relu')(hidden1)    # 은닉층2: 은닉층1을 입력받는 layer 추가\n",
    "output = Dense(1, activation='linear')(hidden2)    # 출력층: 은닉층2를 입력받아 Y를 출력하는 layer 추가\n",
    "model = Model(inputs, output)    # 입력층과 출력층을 구성하며 최종 모델 완성\n",
    "model.summary()    # 네트워크 구조 출력\n",
    "plot_model(model)    # 네트워크 구조 시각화\n",
    "```\n",
    "- **Input:** `신경망의 입력층`으로 입력되는 `샘플 크기를 제외한 나머지 크기 입력 필요`\n",
    "- **Dense Layer:** `신경망의 기본층`으로 시간흐름이 반영되는 경우 외 `대부분 사용 가능`\n",
    "\n",
    "> -  입력과 출력을 연결하는 `함수의 형태`로 구성되며 `추정해야 할 가중치를 내포`\n",
    "> -  **첫번째인자(5):**  `출력(뉴런) 갯수`로 1개의 변수가 `5개의 변수로 전처리(Feature Engineering)`\n",
    ">\n",
    "> - **두번째인자(activation='relu'):** 출력값을 목적에 맞게 변환하는 `활성화 함수`(linear / sigmoid / relu 등)\n",
    "\n",
    "```python\n",
    "_________________________________________________________________\n",
    " Layer (type)                Output Shape              Param #   \n",
    "=================================================================\n",
    " input_8 (InputLayer)        [(None, 1)]               0         \n",
    "                                                                 \n",
    " dense_45 (Dense)            (None, 5)                 10        \n",
    "                                                                 \n",
    " dense_46 (Dense)            (None, 3)                 18        \n",
    "                                                                 \n",
    " dense_47 (Dense)            (None, 1)                 4         \n",
    "                                                                 \n",
    "=================================================================\n",
    "Total params: 32\n",
    "Trainable params: 32\n",
    "Non-trainable params: 0\n",
    "_________________________________________________________________\n",
    "```\n",
    "\n",
    "- **파라미터 갯수:**\n",
    "\n",
    "> - **은닉층1:** 데이터가 `5개의 뉴런으로 입력`되고 `각 뉴런당 1개의 가중치와 1개의 편향 파라미터 추정`이 필요 $\\rightarrow$ `5 * 2 = 10`\n",
    "> - **은닉층2:** 5개의 뉴런이 `3개의 뉴런으로 입력`되고 `각 뉴런당 5개의 가중치와 1개의 편향 파라미터 추정`이 필요 $\\rightarrow$ `5 * 3 + 3 = 18`\n",
    "> - **출력층:** 3개의 뉴런이 `1개의 뉴런으로 입력`되고 `3개의 가중치와 1개의 편향 파라미터 추정`이 필요 $\\rightarrow$ `3 * 1 + 1 = 4`\n"
   ]
  },
  {
   "cell_type": "markdown",
   "metadata": {},
   "source": [
    "## 데이터 학습하기\n",
    "\n",
    "| **문제 유형** | **출력층 Activation Function** | **비용함수** |\n",
    "|:---|:---:|:---:|\n",
    "| **임의 값 Regression** | 없음 / Linear | mse |\n",
    "| **0과 1사이 값 Regression** | Sigmoid | mse / binary_crossentropy |\n",
    "| **Binary Classification** | Sigmoid | binary_crossentropy |\n",
    "| **Multi Classification (단일 Label)** | Softmax | categorical_crossentropy |\n",
    "| **Multi Classification (다중 Label)** | Sigmoid | binary_crossentropy |\n",
    "\n",
    "---\n",
    "\n",
    "**1) 비용함수, 최적화 알고리즘, 평가함수 선택:**\n",
    "\n",
    "```python\n",
    "model.compile(loss='mse', optimizer='adam', metrics='mae')\n",
    "```\n",
    "\n",
    "> - **loss:** 비용함수로 `출력값이 목표값과 얼마나 유사`한지 평가\n",
    "> - **optimizer:** `비용함수를 최소가 되는 방향으로 신경망 가중치를 업데이트`하는 알고리즘\n",
    "> - **metrics:** `문제 해결의 정도`를 평가하는 함수\n",
    "\n",
    "**2) 데이터 학습:**\n",
    "\n",
    "```python\n",
    "model.fit(X, Y, epochs=100, batch_size=3, verbose=1)\n",
    "```\n",
    "\n",
    "> - **epochs:** `전체데이터의 학습 횟수`로 100번을 학습한다는 예시\n",
    "> - **batch_size:** 1 epoch에서 `학습과 평가를 진행할 최소 row 샘플의 갯수`로 3개씩 학습 및 평가함\n",
    "> - **verbose:** `epoch마다 데이터를 학습과정 출력 여부`로 1은 출력 의미"
   ]
  },
  {
   "cell_type": "code",
   "execution_count": 6,
   "metadata": {
    "scrolled": true
   },
   "outputs": [
    {
     "name": "stdout",
     "output_type": "stream",
     "text": [
      "Epoch 1/100\n",
      "4/4 [==============================] - 2s 8ms/step - loss: 27.4790 - mae: 4.6478\n",
      "Epoch 2/100\n",
      "4/4 [==============================] - 0s 5ms/step - loss: 26.6759 - mae: 4.5760\n",
      "Epoch 3/100\n",
      "4/4 [==============================] - 0s 5ms/step - loss: 25.8449 - mae: 4.5006\n",
      "Epoch 4/100\n",
      "4/4 [==============================] - 0s 4ms/step - loss: 25.1041 - mae: 4.4292\n",
      "Epoch 5/100\n",
      "4/4 [==============================] - 0s 4ms/step - loss: 24.2267 - mae: 4.3495\n",
      "Epoch 6/100\n",
      "4/4 [==============================] - 0s 5ms/step - loss: 23.3825 - mae: 4.2716\n",
      "Epoch 7/100\n",
      "4/4 [==============================] - 0s 5ms/step - loss: 22.5600 - mae: 4.1922\n",
      "Epoch 8/100\n",
      "4/4 [==============================] - 0s 4ms/step - loss: 21.7490 - mae: 4.1133\n",
      "Epoch 9/100\n",
      "4/4 [==============================] - 0s 5ms/step - loss: 20.9908 - mae: 4.0371\n",
      "Epoch 10/100\n",
      "4/4 [==============================] - 0s 4ms/step - loss: 20.1983 - mae: 3.9589\n",
      "Epoch 11/100\n",
      "4/4 [==============================] - 0s 4ms/step - loss: 19.5327 - mae: 3.8852\n",
      "Epoch 12/100\n",
      "4/4 [==============================] - 0s 4ms/step - loss: 18.7617 - mae: 3.8041\n",
      "Epoch 13/100\n",
      "4/4 [==============================] - 0s 3ms/step - loss: 17.9645 - mae: 3.7221\n",
      "Epoch 14/100\n",
      "4/4 [==============================] - 0s 3ms/step - loss: 17.2588 - mae: 3.6438\n",
      "Epoch 15/100\n",
      "4/4 [==============================] - 0s 4ms/step - loss: 16.4966 - mae: 3.5645\n",
      "Epoch 16/100\n",
      "4/4 [==============================] - 0s 4ms/step - loss: 15.9342 - mae: 3.4917\n",
      "Epoch 17/100\n",
      "4/4 [==============================] - 0s 4ms/step - loss: 15.2654 - mae: 3.4122\n",
      "Epoch 18/100\n",
      "4/4 [==============================] - 0s 5ms/step - loss: 14.4600 - mae: 3.3251\n",
      "Epoch 19/100\n",
      "4/4 [==============================] - 0s 4ms/step - loss: 13.8928 - mae: 3.2503\n",
      "Epoch 20/100\n",
      "4/4 [==============================] - 0s 4ms/step - loss: 13.2232 - mae: 3.1674\n",
      "Epoch 21/100\n",
      "4/4 [==============================] - 0s 4ms/step - loss: 12.5351 - mae: 3.0833\n",
      "Epoch 22/100\n",
      "4/4 [==============================] - 0s 4ms/step - loss: 11.9596 - mae: 3.0061\n",
      "Epoch 23/100\n",
      "4/4 [==============================] - 0s 4ms/step - loss: 11.3555 - mae: 2.9251\n",
      "Epoch 24/100\n",
      "4/4 [==============================] - 0s 4ms/step - loss: 10.7845 - mae: 2.8436\n",
      "Epoch 25/100\n",
      "4/4 [==============================] - 0s 4ms/step - loss: 10.2193 - mae: 2.7609\n",
      "Epoch 26/100\n",
      "4/4 [==============================] - 0s 4ms/step - loss: 9.6846 - mae: 2.6774\n",
      "Epoch 27/100\n",
      "4/4 [==============================] - 0s 3ms/step - loss: 9.0816 - mae: 2.5901\n",
      "Epoch 28/100\n",
      "4/4 [==============================] - 0s 3ms/step - loss: 8.5342 - mae: 2.5054\n",
      "Epoch 29/100\n",
      "4/4 [==============================] - 0s 3ms/step - loss: 8.0909 - mae: 2.4223\n",
      "Epoch 30/100\n",
      "4/4 [==============================] - 0s 5ms/step - loss: 7.5561 - mae: 2.3289\n",
      "Epoch 31/100\n",
      "4/4 [==============================] - 0s 3ms/step - loss: 7.0906 - mae: 2.2373\n",
      "Epoch 32/100\n",
      "4/4 [==============================] - 0s 5ms/step - loss: 6.1313 - mae: 2.0765\n",
      "Epoch 33/100\n",
      "4/4 [==============================] - 0s 5ms/step - loss: 4.9308 - mae: 1.8566\n",
      "Epoch 34/100\n",
      "4/4 [==============================] - 0s 3ms/step - loss: 3.7503 - mae: 1.6140\n",
      "Epoch 35/100\n",
      "4/4 [==============================] - 0s 4ms/step - loss: 2.6782 - mae: 1.3457\n",
      "Epoch 36/100\n",
      "4/4 [==============================] - 0s 4ms/step - loss: 1.9793 - mae: 1.1402\n",
      "Epoch 37/100\n",
      "4/4 [==============================] - 0s 4ms/step - loss: 1.2204 - mae: 0.9112\n",
      "Epoch 38/100\n",
      "4/4 [==============================] - 0s 5ms/step - loss: 0.8049 - mae: 0.7323\n",
      "Epoch 39/100\n",
      "4/4 [==============================] - 0s 4ms/step - loss: 0.5102 - mae: 0.5956\n",
      "Epoch 40/100\n",
      "4/4 [==============================] - 0s 4ms/step - loss: 0.3606 - mae: 0.5216\n",
      "Epoch 41/100\n",
      "4/4 [==============================] - 0s 4ms/step - loss: 0.2621 - mae: 0.4369\n",
      "Epoch 42/100\n",
      "4/4 [==============================] - 0s 3ms/step - loss: 0.2160 - mae: 0.4004\n",
      "Epoch 43/100\n",
      "4/4 [==============================] - 0s 4ms/step - loss: 0.1833 - mae: 0.3651\n",
      "Epoch 44/100\n",
      "4/4 [==============================] - 0s 4ms/step - loss: 0.1796 - mae: 0.3615\n",
      "Epoch 45/100\n",
      "4/4 [==============================] - 0s 5ms/step - loss: 0.1738 - mae: 0.3480\n",
      "Epoch 46/100\n",
      "4/4 [==============================] - 0s 4ms/step - loss: 0.1759 - mae: 0.3500\n",
      "Epoch 47/100\n",
      "4/4 [==============================] - 0s 5ms/step - loss: 0.1739 - mae: 0.3470\n",
      "Epoch 48/100\n",
      "4/4 [==============================] - 0s 4ms/step - loss: 0.1727 - mae: 0.3455\n",
      "Epoch 49/100\n",
      "4/4 [==============================] - 0s 5ms/step - loss: 0.1708 - mae: 0.3442\n",
      "Epoch 50/100\n",
      "4/4 [==============================] - 0s 5ms/step - loss: 0.1680 - mae: 0.3412\n",
      "Epoch 51/100\n",
      "4/4 [==============================] - 0s 5ms/step - loss: 0.1666 - mae: 0.3401\n",
      "Epoch 52/100\n",
      "4/4 [==============================] - 0s 5ms/step - loss: 0.1633 - mae: 0.3372\n",
      "Epoch 53/100\n",
      "4/4 [==============================] - 0s 5ms/step - loss: 0.1609 - mae: 0.3341\n",
      "Epoch 54/100\n",
      "4/4 [==============================] - 0s 4ms/step - loss: 0.1589 - mae: 0.3322\n",
      "Epoch 55/100\n",
      "4/4 [==============================] - 0s 5ms/step - loss: 0.1572 - mae: 0.3310\n",
      "Epoch 56/100\n",
      "4/4 [==============================] - 0s 5ms/step - loss: 0.1547 - mae: 0.3293\n",
      "Epoch 57/100\n",
      "4/4 [==============================] - 0s 5ms/step - loss: 0.1541 - mae: 0.3304\n",
      "Epoch 58/100\n",
      "4/4 [==============================] - 0s 5ms/step - loss: 0.1512 - mae: 0.3287\n",
      "Epoch 59/100\n",
      "4/4 [==============================] - 0s 4ms/step - loss: 0.1496 - mae: 0.3270\n",
      "Epoch 60/100\n",
      "4/4 [==============================] - 0s 5ms/step - loss: 0.1477 - mae: 0.3253\n",
      "Epoch 61/100\n",
      "4/4 [==============================] - 0s 4ms/step - loss: 0.1459 - mae: 0.3240\n",
      "Epoch 62/100\n",
      "4/4 [==============================] - 0s 5ms/step - loss: 0.1449 - mae: 0.3232\n",
      "Epoch 63/100\n",
      "4/4 [==============================] - 0s 5ms/step - loss: 0.1438 - mae: 0.3233\n",
      "Epoch 64/100\n",
      "4/4 [==============================] - 0s 4ms/step - loss: 0.1419 - mae: 0.3217\n",
      "Epoch 65/100\n",
      "4/4 [==============================] - 0s 4ms/step - loss: 0.1415 - mae: 0.3216\n",
      "Epoch 66/100\n",
      "4/4 [==============================] - 0s 4ms/step - loss: 0.1386 - mae: 0.3170\n",
      "Epoch 67/100\n",
      "4/4 [==============================] - 0s 4ms/step - loss: 0.1368 - mae: 0.3150\n",
      "Epoch 68/100\n",
      "4/4 [==============================] - 0s 4ms/step - loss: 0.1350 - mae: 0.3121\n",
      "Epoch 69/100\n",
      "4/4 [==============================] - 0s 4ms/step - loss: 0.1341 - mae: 0.3097\n",
      "Epoch 70/100\n",
      "4/4 [==============================] - 0s 3ms/step - loss: 0.1330 - mae: 0.3080\n",
      "Epoch 71/100\n",
      "4/4 [==============================] - 0s 4ms/step - loss: 0.1308 - mae: 0.3043\n",
      "Epoch 72/100\n",
      "4/4 [==============================] - 0s 4ms/step - loss: 0.1296 - mae: 0.3034\n",
      "Epoch 73/100\n",
      "4/4 [==============================] - 0s 7ms/step - loss: 0.1281 - mae: 0.3019\n",
      "Epoch 74/100\n",
      "4/4 [==============================] - 0s 5ms/step - loss: 0.1268 - mae: 0.2999\n",
      "Epoch 75/100\n",
      "4/4 [==============================] - 0s 4ms/step - loss: 0.1249 - mae: 0.2977\n",
      "Epoch 76/100\n",
      "4/4 [==============================] - 0s 4ms/step - loss: 0.1236 - mae: 0.2971\n",
      "Epoch 77/100\n",
      "4/4 [==============================] - 0s 7ms/step - loss: 0.1219 - mae: 0.2954\n",
      "Epoch 78/100\n",
      "4/4 [==============================] - 0s 7ms/step - loss: 0.1207 - mae: 0.2942\n",
      "Epoch 79/100\n",
      "4/4 [==============================] - 0s 5ms/step - loss: 0.1192 - mae: 0.2926\n",
      "Epoch 80/100\n",
      "4/4 [==============================] - 0s 4ms/step - loss: 0.1182 - mae: 0.2914\n",
      "Epoch 81/100\n",
      "4/4 [==============================] - 0s 4ms/step - loss: 0.1167 - mae: 0.2894\n",
      "Epoch 82/100\n",
      "4/4 [==============================] - 0s 4ms/step - loss: 0.1156 - mae: 0.2877\n",
      "Epoch 83/100\n",
      "4/4 [==============================] - 0s 4ms/step - loss: 0.1138 - mae: 0.2850\n",
      "Epoch 84/100\n",
      "4/4 [==============================] - 0s 4ms/step - loss: 0.1122 - mae: 0.2826\n",
      "Epoch 85/100\n",
      "4/4 [==============================] - 0s 4ms/step - loss: 0.1111 - mae: 0.2796\n",
      "Epoch 86/100\n",
      "4/4 [==============================] - 0s 4ms/step - loss: 0.1100 - mae: 0.2780\n",
      "Epoch 87/100\n",
      "4/4 [==============================] - 0s 4ms/step - loss: 0.1086 - mae: 0.2755\n",
      "Epoch 88/100\n",
      "4/4 [==============================] - 0s 4ms/step - loss: 0.1076 - mae: 0.2733\n",
      "Epoch 89/100\n",
      "4/4 [==============================] - 0s 4ms/step - loss: 0.1060 - mae: 0.2714\n",
      "Epoch 90/100\n",
      "4/4 [==============================] - 0s 4ms/step - loss: 0.1054 - mae: 0.2711\n",
      "Epoch 91/100\n",
      "4/4 [==============================] - 0s 4ms/step - loss: 0.1027 - mae: 0.2685\n",
      "Epoch 92/100\n",
      "4/4 [==============================] - 0s 4ms/step - loss: 0.1017 - mae: 0.2678\n",
      "Epoch 93/100\n",
      "4/4 [==============================] - 0s 5ms/step - loss: 0.1000 - mae: 0.2675\n",
      "Epoch 94/100\n",
      "4/4 [==============================] - 0s 3ms/step - loss: 0.0988 - mae: 0.2671\n",
      "Epoch 95/100\n",
      "4/4 [==============================] - 0s 3ms/step - loss: 0.0973 - mae: 0.2647\n",
      "Epoch 96/100\n",
      "4/4 [==============================] - 0s 3ms/step - loss: 0.0965 - mae: 0.2635\n",
      "Epoch 97/100\n",
      "4/4 [==============================] - 0s 5ms/step - loss: 0.0947 - mae: 0.2606\n",
      "Epoch 98/100\n",
      "4/4 [==============================] - 0s 5ms/step - loss: 0.0927 - mae: 0.2566\n",
      "Epoch 99/100\n",
      "4/4 [==============================] - 0s 5ms/step - loss: 0.0917 - mae: 0.2540\n",
      "Epoch 100/100\n",
      "4/4 [==============================] - 0s 5ms/step - loss: 0.0909 - mae: 0.2523\n"
     ]
    }
   ],
   "source": [
    "# 데이터 학습하기\n",
    "model.compile(loss='mse', optimizer='adam', metrics=['mae'])\n",
    "model_fit = model.fit(X_train, Y_train, epochs=100, batch_size=3, verbose=1)"
   ]
  },
  {
   "cell_type": "code",
   "execution_count": 7,
   "metadata": {
    "scrolled": true
   },
   "outputs": [
    {
     "data": {
      "image/png": "[encoded data removed]",
      "text/plain": [
       "<Figure size 640x480 with 1 Axes>"
      ]
     },
     "metadata": {},
     "output_type": "display_data"
    }
   ],
   "source": [
    "# 학습과정의 history 수치 출력 가능\n",
    "import pandas as pd\n",
    "import matplotlib.pyplot as plt\n",
    "\n",
    "pd.DataFrame(model_fit.history['mae'], columns=['MAE']).plot()\n",
    "plt.show()"
   ]
  },
  {
   "cell_type": "markdown",
   "metadata": {},
   "source": [
    "## 데이터 예측 및 평가하기"
   ]
  },
  {
   "cell_type": "code",
   "execution_count": 8,
   "metadata": {},
   "outputs": [
    {
     "name": "stdout",
     "output_type": "stream",
     "text": [
      "1/1 [==============================] - 0s 88ms/step\n"
     ]
    },
    {
     "data": {
      "text/plain": [
       "array([[1.5532553],\n",
       "       [2.4602692],\n",
       "       [3.3672826],\n",
       "       [4.2742968],\n",
       "       [5.1813107],\n",
       "       [6.088324 ],\n",
       "       [6.995338 ],\n",
       "       [7.9023523],\n",
       "       [8.809366 ],\n",
       "       [9.71638  ]], dtype=float32)"
      ]
     },
     "execution_count": 8,
     "metadata": {},
     "output_type": "execute_result"
    }
   ],
   "source": [
    "# Train 데이터 예측하기\n",
    "Y_trpred = model.predict(X_train)\n",
    "Y_trpred"
   ]
  },
  {
   "cell_type": "code",
   "execution_count": 9,
   "metadata": {},
   "outputs": [
    {
     "name": "stdout",
     "output_type": "stream",
     "text": [
      "1/1 [==============================] - 0s 24ms/step\n"
     ]
    },
    {
     "data": {
      "text/plain": [
       "array([[3.3672824],\n",
       "       [6.995338 ],\n",
       "       [8.809366 ]], dtype=float32)"
      ]
     },
     "execution_count": 9,
     "metadata": {},
     "output_type": "execute_result"
    }
   ],
   "source": [
    "# Test 데이터 예측하기\n",
    "Y_tepred = model.predict(X_test)\n",
    "Y_tepred"
   ]
  },
  {
   "cell_type": "code",
   "execution_count": 10,
   "metadata": {},
   "outputs": [
    {
     "name": "stdout",
     "output_type": "stream",
     "text": [
      "4/4 [==============================] - 0s 2ms/step - loss: 0.0895 - mae: 0.2501\n"
     ]
    },
    {
     "data": {
      "text/plain": [
       "[0.08950873464345932, 0.25013023614883423]"
      ]
     },
     "execution_count": 10,
     "metadata": {},
     "output_type": "execute_result"
    }
   ],
   "source": [
    "# Train 예측 성능 평가하기\n",
    "# 학습과정의 결과와 유사\n",
    "model.evaluate(X_train, Y_train, batch_size=3)"
   ]
  },
  {
   "cell_type": "code",
   "execution_count": 11,
   "metadata": {},
   "outputs": [
    {
     "name": "stdout",
     "output_type": "stream",
     "text": [
      "1/1 [==============================] - 0s 26ms/step - loss: 0.0571 - mae: 0.1875\n"
     ]
    },
    {
     "data": {
      "text/plain": [
       "[0.05708644166588783, 0.18752606213092804]"
      ]
     },
     "execution_count": 11,
     "metadata": {},
     "output_type": "execute_result"
    }
   ],
   "source": [
    "# Test 예측 성능 평가하기\n",
    "model.evaluate(X_test, Y_test, batch_size=3)"
   ]
  },
  {
   "cell_type": "markdown",
   "metadata": {},
   "source": [
    "# **코드정리**\n",
    "\n",
    "## 회귀문제"
   ]
  },
  {
   "cell_type": "code",
   "execution_count": 12,
   "metadata": {
    "scrolled": false
   },
   "outputs": [
    {
     "name": "stdout",
     "output_type": "stream",
     "text": [
      "Model: \"model_1\"\n",
      "_________________________________________________________________\n",
      " Layer (type)                Output Shape              Param #   \n",
      "=================================================================\n",
      " input_2 (InputLayer)        [(None, 1)]               0         \n",
      "                                                                 \n",
      " dense_6 (Dense)             (None, 5)                 10        \n",
      "                                                                 \n",
      " dense_7 (Dense)             (None, 3)                 18        \n",
      "                                                                 \n",
      " dense_8 (Dense)             (None, 1)                 4         \n",
      "                                                                 \n",
      "=================================================================\n",
      "Total params: 32\n",
      "Trainable params: 32\n",
      "Non-trainable params: 0\n",
      "_________________________________________________________________\n"
     ]
    },
    {
     "data": {
      "image/png": "[encoded data removed]",
      "text/plain": [
       "<Figure size 640x480 with 1 Axes>"
      ]
     },
     "metadata": {},
     "output_type": "display_data"
    },
    {
     "name": "stdout",
     "output_type": "stream",
     "text": [
      "1/1 [==============================] - 0s 48ms/step\n",
      "1/1 [==============================] - 0s 28ms/step\n",
      "Prediction of Y_train:  [[1.7398837]\n",
      " [1.7398837]\n",
      " [1.7398837]\n",
      " [1.7398837]\n",
      " [1.7398837]\n",
      " [1.7398837]\n",
      " [1.7398837]\n",
      " [1.7398837]\n",
      " [1.7398837]\n",
      " [1.7398837]]\n",
      "4/4 [==============================] - 0s 3ms/step - loss: 22.3885 - mae: 3.9081\n",
      "Evaluation of Y_train:  [22.388477325439453, 3.908093214035034]\n",
      " \n",
      "Prediction of Y_test:  [[1.7398837]\n",
      " [1.7398837]\n",
      " [1.7398837]]\n",
      "1/1 [==============================] - 0s 30ms/step - loss: 27.3220 - mae: 4.5935\n",
      "Evaluation of Y_test:  [27.322004318237305, 4.59345006942749]\n"
     ]
    }
   ],
   "source": [
    "import numpy as np\n",
    "import pandas as pd\n",
    "import matplotlib.pyplot as plt\n",
    "from tensorflow.keras.models import Sequential, Model\n",
    "from tensorflow.keras.layers import Dense\n",
    "from tensorflow.keras.utils import plot_model\n",
    "\n",
    "# 하이퍼파라미터\n",
    "tf.random.set_seed(1)\n",
    "HIDDEN_ACTIVATION = 'relu'\n",
    "OUTPUT_ACTIVATION = 'linear'\n",
    "LOSS = 'mse',\n",
    "OPTIMIZER = 'adam'\n",
    "METRICS = ['mae']\n",
    "BATCH_SIZE = 3\n",
    "EPOCHS = 500\n",
    "VERBOSE = 0\n",
    "\n",
    "# 입력과 출력이 같은 데이터를 구성하여 최적의 가중치는 1\n",
    "X_train = np.array([1,2,3,4,5,6,7,8,9,10])\n",
    "X_test = np.array([3,7,9])\n",
    "Y_train = np.array([1,2,3,4,5,6,7,8,9,10])\n",
    "Y_test = np.array([3,7,9])\n",
    "\n",
    "# 회귀문제 모델링\n",
    "inputs = Input(shape=(1,))    # Input 함수를 사용하여 입력층 생성\n",
    "hidden1 = Dense(5, activation=HIDDEN_ACTIVATION)(inputs)    # 은닉층1: 입력층을 입력받는 layer 추가\n",
    "hidden2 = Dense(3, activation=HIDDEN_ACTIVATION)(hidden1)    # 은닉층2: 은닉층1을 입력받는 layer 추가\n",
    "output = Dense(1, activation=OUTPUT_ACTIVATION)(hidden2)    # 출력층: 은닉층2를 입력받아 Y를 출력하는 layer 추가\n",
    "model = Model(inputs, output)    # 입력층과 출력층을 구성하며 최종 모델 완성\n",
    "model.summary()    # 네트워크 구조 출력\n",
    "plot_model(model)    # 네트워크 구조 시각화\n",
    "\n",
    "# 데이터 학습하기\n",
    "model.compile(loss=LOSS, optimizer=OPTIMIZER, metrics=METRICS)\n",
    "model_fit = model.fit(X_train, Y_train, \n",
    "                      batch_size=BATCH_SIZE, epochs=EPOCHS, verbose=VERBOSE)\n",
    "pd.DataFrame(model_fit.history[METRICS[0]], columns=[METRICS[0].upper()]).plot()\n",
    "plt.show()\n",
    "\n",
    "# 데이터 예측 및 평가하기\n",
    "Y_trpred = model.predict(X_train)\n",
    "Y_tepred = model.predict(X_test)\n",
    "print('Prediction of Y_train: ', Y_trpred)\n",
    "print('Evaluation of Y_train: ', model.evaluate(X_train, Y_train, batch_size=BATCH_SIZE))\n",
    "print(' ')\n",
    "print('Prediction of Y_test: ', Y_tepred)\n",
    "print('Evaluation of Y_test: ', model.evaluate(X_test, Y_test, batch_size=BATCH_SIZE))"
   ]
  },
  {
   "cell_type": "markdown",
   "metadata": {},
   "source": [
    "## 분류문제"
   ]
  },
  {
   "cell_type": "code",
   "execution_count": 13,
   "metadata": {},
   "outputs": [
    {
     "name": "stdout",
     "output_type": "stream",
     "text": [
      "Model: \"model_2\"\n",
      "_________________________________________________________________\n",
      " Layer (type)                Output Shape              Param #   \n",
      "=================================================================\n",
      " input_3 (InputLayer)        [(None, 1)]               0         \n",
      "                                                                 \n",
      " dense_9 (Dense)             (None, 5)                 10        \n",
      "                                                                 \n",
      " dense_10 (Dense)            (None, 3)                 18        \n",
      "                                                                 \n",
      " dense_11 (Dense)            (None, 1)                 4         \n",
      "                                                                 \n",
      "=================================================================\n",
      "Total params: 32\n",
      "Trainable params: 32\n",
      "Non-trainable params: 0\n",
      "_________________________________________________________________\n"
     ]
    },
    {
     "data": {
      "image/png": "[encoded data removed]",
      "text/plain": [
       "<Figure size 640x480 with 1 Axes>"
      ]
     },
     "metadata": {},
     "output_type": "display_data"
    },
    {
     "name": "stdout",
     "output_type": "stream",
     "text": [
      "1/1 [==============================] - 0s 67ms/step\n",
      "1/1 [==============================] - 0s 27ms/step\n",
      "Prediction of Y_train:  [[0.09544674]\n",
      " [0.07414149]\n",
      " [0.08348338]\n",
      " [0.18913136]\n",
      " [0.41113502]\n",
      " [0.67636424]\n",
      " [0.86217827]\n",
      " [0.9493044 ]\n",
      " [0.98247206]\n",
      " [0.9940752 ]]\n",
      "4/4 [==============================] - 0s 4ms/step - loss: 0.1619 - accuracy: 1.0000\n",
      "Evaluation of Y_train:  [0.16186989843845367, 1.0]\n",
      " \n",
      "Prediction of Y_test:  [[0.08348338]\n",
      " [0.86217827]\n",
      " [0.98247206]]\n",
      "1/1 [==============================] - 0s 31ms/step - loss: 0.0844 - accuracy: 1.0000\n",
      "Evaluation of Y_test:  [0.08438386768102646, 1.0]\n"
     ]
    }
   ],
   "source": [
    "import numpy as np\n",
    "import pandas as pd\n",
    "import matplotlib.pyplot as plt\n",
    "from tensorflow.keras.models import Sequential, Model\n",
    "from tensorflow.keras.layers import Dense\n",
    "from tensorflow.keras.utils import plot_model\n",
    "\n",
    "# 하이퍼파라미터\n",
    "tf.random.set_seed(1)\n",
    "HIDDEN_ACTIVATION = 'relu'\n",
    "OUTPUT_ACTIVATION = 'sigmoid'\n",
    "LOSS = 'binary_crossentropy'\n",
    "OPTIMIZER = 'adam'\n",
    "METRICS = ['accuracy']\n",
    "BATCH_SIZE = 3\n",
    "EPOCHS = 500\n",
    "VERBOSE = 0\n",
    "\n",
    "# 입력과 출력이 같은 데이터를 구성하여 최적의 가중치는 1\n",
    "X_train = np.array([1,2,3,4,5,6,7,8,9,10])\n",
    "X_test = np.array([3,7,9])\n",
    "Y_train = np.array([0,0,0,0,0,1,1,1,1,1])\n",
    "Y_test = np.array([0,1,1])\n",
    "\n",
    "# 분류문제 모델링\n",
    "inputs = Input(shape=(1,))    # Input 함수를 사용하여 입력층 생성\n",
    "hidden1 = Dense(5, activation=HIDDEN_ACTIVATION)(inputs)    # 은닉층1: 입력층을 입력받는 layer 추가\n",
    "hidden2 = Dense(3, activation=HIDDEN_ACTIVATION)(hidden1)    # 은닉층2: 은닉층1을 입력받는 layer 추가\n",
    "output = Dense(1, activation=OUTPUT_ACTIVATION)(hidden2)    # 출력층: 은닉층2를 입력받아 Y를 출력하는 layer 추가\n",
    "model = Model(inputs, output)    # 입력층과 출력층을 구성하며 최종 모델 완성\n",
    "model.summary()    # 네트워크 구조 출력\n",
    "plot_model(model)    # 네트워크 구조 시각화\n",
    "\n",
    "# 데이터 학습하기\n",
    "model.compile(loss=LOSS, optimizer=OPTIMIZER, metrics=METRICS)\n",
    "model_fit = model.fit(X_train, Y_train, \n",
    "                      batch_size=BATCH_SIZE, epochs=EPOCHS, verbose=VERBOSE)\n",
    "pd.DataFrame(model_fit.history[METRICS[0]], columns=[METRICS[0].upper()]).plot()\n",
    "plt.show()\n",
    "\n",
    "# 데이터 예측 및 평가하기\n",
    "Y_trpred = model.predict(X_train)\n",
    "Y_tepred = model.predict(X_test)\n",
    "print('Prediction of Y_train: ', Y_trpred)\n",
    "print('Evaluation of Y_train: ', model.evaluate(X_train, Y_train, batch_size=3))\n",
    "print(' ')\n",
    "print('Prediction of Y_test: ', Y_tepred)\n",
    "print('Evaluation of Y_test: ', model.evaluate(X_test, Y_test, batch_size=3))"
   ]
  },
  {
   "cell_type": "code",
   "execution_count": null,
   "metadata": {},
   "outputs": [],
   "source": []
  }
 ],
 "metadata": {
  "hide_input": false,
  "kernelspec": {
   "display_name": "Python 3 (ipykernel)",
   "language": "python",
   "name": "python3"
  },
  "language_info": {
   "codemirror_mode": {
    "name": "ipython",
    "version": 3
   },
   "file_extension": ".py",
   "mimetype": "text/x-python",
   "name": "python",
   "nbconvert_exporter": "python",
   "pygments_lexer": "ipython3",
   "version": "3.9.13"
  },
  "toc": {
   "base_numbering": 1,
   "nav_menu": {},
   "number_sections": true,
   "sideBar": true,
   "skip_h1_title": false,
   "title_cell": "Table of Contents",
   "title_sidebar": "Contents",
   "toc_cell": false,
   "toc_position": {
    "height": "1179.33px",
    "left": "23px",
    "top": "157px",
    "width": "287px"
   },
   "toc_section_display": true,
   "toc_window_display": true
  },
  "toc-autonumbering": true,
  "varInspector": {
   "cols": {
    "lenName": 16,
    "lenType": 16,
    "lenVar": 40
   },
   "kernels_config": {
    "python": {
     "delete_cmd_postfix": "",
     "delete_cmd_prefix": "del ",
     "library": "var_list.py",
     "varRefreshCmd": "print(var_dic_list())"
    },
    "r": {
     "delete_cmd_postfix": ") ",
     "delete_cmd_prefix": "rm(",
     "library": "var_list.r",
     "varRefreshCmd": "cat(var_dic_list()) "
    }
   },
   "types_to_exclude": [
    "module",
    "function",
    "builtin_function_or_method",
    "instance",
    "_Feature"
   ],
   "window_display": false
  }
 },
 "nbformat": 4,
 "nbformat_minor": 4
}
